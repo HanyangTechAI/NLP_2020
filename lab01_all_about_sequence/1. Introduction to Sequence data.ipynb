{
 "cells": [
  {
   "cell_type": "markdown",
   "metadata": {},
   "source": [
    "## 시계열 데이터 (Sequence Data) 의 소개\n",
    "- 사전적 의미 : \" 일정 시간 간격으로 배치된 데이터들의 수열을 말한다 \" 라고 위키피디아가 말한다.\n",
    "- 실용적 포인트 : 정보의 **배치 순서**가 **의미**가 있을때!!\n",
    "\n",
    "### 예시\n",
    "1. 주식가격\n",
    "2. 버스 도착시간\n",
    "3. 언어\n",
    "4. 몸의 움직임\n",
    "5. 음악\n",
    "\n",
    "### Q: 시계열 데이터는 어떻게 수치화 하는가?\n",
    "인간은 큰 노력 없이 주어지는 정보를 받아드린다. 시각, 청각, 촉각 등등 그 자체로 뇌는 학습한다(물론 뉴런들 간의 신경전달물질 이동 ...). 하지만 컴퓨터는 정보를 숫자로만 받아드린다. 고로, 프로그램으로 문제를 해결할 때 가장 중요한 Task 중 하나가 주어진 데이터를 수치화 하는것이다!!\n",
    "\n",
    "우리들은 직접 위의 예시 데이터들을 만져보도록 하겠다"
   ]
  },
  {
   "cell_type": "markdown",
   "metadata": {},
   "source": [
    "## Example 1) 주식 가격\n",
    "주식이라는 단어를 들었을때 생각을 해보자.\n",
    "\n",
    "- 주식은 **시간**에 따라 **가격**이 변동한다. 2가지의 variable 이 존재함을 인지하자.\n",
    "- 시간을 discrete 하게 나타내기 위해 sample 주기가 필요함을 인지하자.\n",
    "- 가격은 화폐단위를 고려하고, 수학적 모델링을 위한 가공 방법을 고민해보자.\n",
    "\n",
    "이제 본격적으로 실시간 주식 데이터와 놀아보자"
   ]
  },
  {
   "cell_type": "code",
   "execution_count": 1,
   "metadata": {},
   "outputs": [
    {
     "name": "stdout",
     "output_type": "stream",
     "text": [
      "yfinance\n",
      "torch\n",
      "torchvision\n",
      "----------------------------------\n",
      "Requirement already satisfied: yfinance in /home/litcoderr/anaconda3/lib/python3.7/site-packages (from -r requirements.txt (line 1)) (0.1.54)\n",
      "Requirement already satisfied: torch in /home/litcoderr/anaconda3/lib/python3.7/site-packages (from -r requirements.txt (line 2)) (1.4.0)\n",
      "Requirement already satisfied: torchvision in /home/litcoderr/anaconda3/lib/python3.7/site-packages (from -r requirements.txt (line 3)) (0.5.0)\n",
      "Requirement already satisfied: multitasking>=0.0.7 in /home/litcoderr/anaconda3/lib/python3.7/site-packages (from yfinance->-r requirements.txt (line 1)) (0.0.9)\n",
      "Requirement already satisfied: pandas>=0.24 in /home/litcoderr/anaconda3/lib/python3.7/site-packages (from yfinance->-r requirements.txt (line 1)) (0.25.1)\n",
      "Requirement already satisfied: requests>=2.20 in /home/litcoderr/anaconda3/lib/python3.7/site-packages (from yfinance->-r requirements.txt (line 1)) (2.22.0)\n",
      "Requirement already satisfied: numpy>=1.15 in /home/litcoderr/anaconda3/lib/python3.7/site-packages (from yfinance->-r requirements.txt (line 1)) (1.17.2)\n",
      "Requirement already satisfied: six in /home/litcoderr/anaconda3/lib/python3.7/site-packages (from torchvision->-r requirements.txt (line 3)) (1.12.0)\n",
      "Requirement already satisfied: pillow>=4.1.1 in /home/litcoderr/anaconda3/lib/python3.7/site-packages (from torchvision->-r requirements.txt (line 3)) (6.2.0)\n",
      "Requirement already satisfied: python-dateutil>=2.6.1 in /home/litcoderr/anaconda3/lib/python3.7/site-packages (from pandas>=0.24->yfinance->-r requirements.txt (line 1)) (2.8.0)\n",
      "Requirement already satisfied: pytz>=2017.2 in /home/litcoderr/anaconda3/lib/python3.7/site-packages (from pandas>=0.24->yfinance->-r requirements.txt (line 1)) (2019.3)\n",
      "Requirement already satisfied: idna<2.9,>=2.5 in /home/litcoderr/anaconda3/lib/python3.7/site-packages (from requests>=2.20->yfinance->-r requirements.txt (line 1)) (2.8)\n",
      "Requirement already satisfied: chardet<3.1.0,>=3.0.2 in /home/litcoderr/anaconda3/lib/python3.7/site-packages (from requests>=2.20->yfinance->-r requirements.txt (line 1)) (3.0.4)\n",
      "Requirement already satisfied: certifi>=2017.4.17 in /home/litcoderr/anaconda3/lib/python3.7/site-packages (from requests>=2.20->yfinance->-r requirements.txt (line 1)) (2019.9.11)\n",
      "Requirement already satisfied: urllib3!=1.25.0,!=1.25.1,<1.26,>=1.21.1 in /home/litcoderr/anaconda3/lib/python3.7/site-packages (from requests>=2.20->yfinance->-r requirements.txt (line 1)) (1.24.2)\n"
     ]
    }
   ],
   "source": [
    "# 필요한 패키지 (인생을 편하게 해주는 미리 만들어놓은 프로그램이라고 보면 된다) 를 설치시킨다\n",
    "!cat requirements.txt\n",
    "!echo '----------------------------------'\n",
    "!pip install -r requirements.txt"
   ]
  },
  {
   "cell_type": "code",
   "execution_count": 2,
   "metadata": {},
   "outputs": [
    {
     "name": "stdout",
     "output_type": "stream",
     "text": [
      "AAPL\n"
     ]
    }
   ],
   "source": [
    "# 주식 Ticker Symbol (시세 기호) 를 Dictionary 형태로 모아봅시다\n",
    "tickers = {\n",
    "    \"apple\" : \"AAPL\",\n",
    "    \"google\" : \"GOOGL\",\n",
    "    \"amazon\" : \"AMZN\"\n",
    "}\n",
    "\n",
    "print(tickers[\"apple\"])"
   ]
  },
  {
   "cell_type": "code",
   "execution_count": 30,
   "metadata": {},
   "outputs": [
    {
     "name": "stdout",
     "output_type": "stream",
     "text": [
      "[*********************100%***********************]  1 of 1 completed\n"
     ]
    },
    {
     "data": {
      "text/html": [
       "<div>\n",
       "<style scoped>\n",
       "    .dataframe tbody tr th:only-of-type {\n",
       "        vertical-align: middle;\n",
       "    }\n",
       "\n",
       "    .dataframe tbody tr th {\n",
       "        vertical-align: top;\n",
       "    }\n",
       "\n",
       "    .dataframe thead th {\n",
       "        text-align: right;\n",
       "    }\n",
       "</style>\n",
       "<table border=\"1\" class=\"dataframe\">\n",
       "  <thead>\n",
       "    <tr style=\"text-align: right;\">\n",
       "      <th></th>\n",
       "      <th>Open</th>\n",
       "      <th>High</th>\n",
       "      <th>Low</th>\n",
       "      <th>Close</th>\n",
       "      <th>Adj Close</th>\n",
       "      <th>Volume</th>\n",
       "    </tr>\n",
       "    <tr>\n",
       "      <th>Date</th>\n",
       "      <th></th>\n",
       "      <th></th>\n",
       "      <th></th>\n",
       "      <th></th>\n",
       "      <th></th>\n",
       "      <th></th>\n",
       "    </tr>\n",
       "  </thead>\n",
       "  <tbody>\n",
       "    <tr>\n",
       "      <td>2018-12-31</td>\n",
       "      <td>158.529999</td>\n",
       "      <td>159.360001</td>\n",
       "      <td>156.479996</td>\n",
       "      <td>157.740005</td>\n",
       "      <td>155.405045</td>\n",
       "      <td>35003500</td>\n",
       "    </tr>\n",
       "    <tr>\n",
       "      <td>2019-01-02</td>\n",
       "      <td>154.889999</td>\n",
       "      <td>158.850006</td>\n",
       "      <td>154.229996</td>\n",
       "      <td>157.919998</td>\n",
       "      <td>155.582367</td>\n",
       "      <td>37039700</td>\n",
       "    </tr>\n",
       "    <tr>\n",
       "      <td>2019-01-03</td>\n",
       "      <td>143.979996</td>\n",
       "      <td>145.720001</td>\n",
       "      <td>142.000000</td>\n",
       "      <td>142.190002</td>\n",
       "      <td>140.085220</td>\n",
       "      <td>91312200</td>\n",
       "    </tr>\n",
       "    <tr>\n",
       "      <td>2019-01-04</td>\n",
       "      <td>144.529999</td>\n",
       "      <td>148.550003</td>\n",
       "      <td>143.800003</td>\n",
       "      <td>148.259995</td>\n",
       "      <td>146.065353</td>\n",
       "      <td>58607100</td>\n",
       "    </tr>\n",
       "    <tr>\n",
       "      <td>2019-01-07</td>\n",
       "      <td>148.699997</td>\n",
       "      <td>148.830002</td>\n",
       "      <td>145.899994</td>\n",
       "      <td>147.929993</td>\n",
       "      <td>145.740265</td>\n",
       "      <td>54777800</td>\n",
       "    </tr>\n",
       "  </tbody>\n",
       "</table>\n",
       "</div>"
      ],
      "text/plain": [
       "                  Open        High         Low       Close   Adj Close  \\\n",
       "Date                                                                     \n",
       "2018-12-31  158.529999  159.360001  156.479996  157.740005  155.405045   \n",
       "2019-01-02  154.889999  158.850006  154.229996  157.919998  155.582367   \n",
       "2019-01-03  143.979996  145.720001  142.000000  142.190002  140.085220   \n",
       "2019-01-04  144.529999  148.550003  143.800003  148.259995  146.065353   \n",
       "2019-01-07  148.699997  148.830002  145.899994  147.929993  145.740265   \n",
       "\n",
       "              Volume  \n",
       "Date                  \n",
       "2018-12-31  35003500  \n",
       "2019-01-02  37039700  \n",
       "2019-01-03  91312200  \n",
       "2019-01-04  58607100  \n",
       "2019-01-07  54777800  "
      ]
     },
     "execution_count": 30,
     "metadata": {},
     "output_type": "execute_result"
    }
   ],
   "source": [
    "# yfinance 패키지를 import 시켜준다\n",
    "import yfinance as yf\n",
    "\n",
    "# yfinance 가 어떻게 작동하는지 예시를 돌려본다\n",
    "\n",
    "## Argument 첫번째: ticker symbol / 두번째: 데이터 요청 시작 날자 / 세번째: 데이터 요청 끝 날자\n",
    "## 반환값은 pandas.Dataframe 형임을 알수있다\n",
    "data = yf.download(tickers[\"apple\"],'2019-01-01','2020-01-01')\n",
    "data.head()  # 첫 5개의 row 만 출력해준다"
   ]
  },
  {
   "cell_type": "code",
   "execution_count": 31,
   "metadata": {},
   "outputs": [
    {
     "name": "stdout",
     "output_type": "stream",
     "text": [
      "shape: (253, 6)\n"
     ]
    }
   ],
   "source": [
    "# data를 2차원 행렬로 표현할때 shape을 출력해본다\n",
    "\n",
    "print('shape: {}'.format(data.values.shape))"
   ]
  },
  {
   "cell_type": "code",
   "execution_count": 32,
   "metadata": {},
   "outputs": [
    {
     "data": {
      "image/png": "[encoded data removed]",
      "text/plain": [
       "<Figure size 432x288 with 1 Axes>"
      ]
     },
     "metadata": {
      "needs_background": "light"
     },
     "output_type": "display_data"
    }
   ],
   "source": [
    "# 위 출력 결과를 보면, 1일 당 6개의 column이 존재함을 알 수 있다\n",
    "# 이중 'Adj Close' column 에 대해 그래프를 그려보겠다\n",
    "\n",
    "# 먼저 matplotlib 이라는 visualization 라이브러리를 import 하겠다\n",
    "import matplotlib.pyplot as plt\n",
    "%matplotlib inline\n",
    "\n",
    "data['Adj Close'].plot()\n",
    "plt.show()"
   ]
  },
  {
   "cell_type": "code",
   "execution_count": 44,
   "metadata": {},
   "outputs": [
    {
     "name": "stdout",
     "output_type": "stream",
     "text": [
      "min: 140.08522033691406\n",
      "min_index: 2\n",
      "\n",
      "max: 293.6499938964844\n",
      "max_index: 252\n",
      "\n",
      "mean: 206.8125288891698\n",
      "\n",
      "variance: 1239.113549884711\n"
     ]
    }
   ],
   "source": [
    "# 이제 데이터를 수치적으로 분석을 해보자\n",
    "# 먼저 수치적 데이터를 다루는 numpy 라이브러리를 import 해준다\n",
    "import numpy as np\n",
    "\n",
    "# 'Adj Close' column에 대해 분석을 해보자\n",
    "temp_data = data['Adj Close'].values\n",
    "\n",
    "# Minimum value and its index\n",
    "min_val = np.min(temp_data)\n",
    "min_index = np.argmin(temp_data, axis=0)\n",
    "print('min: {}\\nmin_index: {}\\n'.format(min_val, min_index))\n",
    "\n",
    "# Maximum value and its index\n",
    "max_val = np.max(temp_data)\n",
    "max_index = np.argmax(temp_data, axis=0)\n",
    "print('max: {}\\nmax_index: {}\\n'.format(max_val, max_index))\n",
    "\n",
    "# Mean\n",
    "mean = np.mean(temp_data)\n",
    "print('mean: {}\\n'.format(mean))\n",
    "\n",
    "#Variance\n",
    "variance = np.var(temp_data)\n",
    "print('variance: {}'.format(variance))"
   ]
  },
  {
   "cell_type": "code",
   "execution_count": null,
   "metadata": {},
   "outputs": [],
   "source": []
  }
 ],
 "metadata": {
  "kernelspec": {
   "display_name": "Python 3",
   "language": "python",
   "name": "python3"
  },
  "language_info": {
   "codemirror_mode": {
    "name": "ipython",
    "version": 3
   },
   "file_extension": ".py",
   "mimetype": "text/x-python",
   "name": "python",
   "nbconvert_exporter": "python",
   "pygments_lexer": "ipython3",
   "version": "3.7.4"
  }
 },
 "nbformat": 4,
 "nbformat_minor": 4
}
