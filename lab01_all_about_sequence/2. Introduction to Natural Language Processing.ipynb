{
 "cells": [
  {
   "cell_type": "markdown",
   "metadata": {},
   "source": [
    "## 자연어 처리 (Natural Language Processing) 의 소개\n",
    "시계열 데이터의 핵심, 바로 **자연어 처리**에 대해서 알아보도록 하겠습니다. 지금까지는 **시계열 데이터**에 대해서 알아보았고 해당 데이터의 수치화 방법에 대해서 알아보았습니다. 자연어의 경우도 똑같이 알아보도록 하겠습니다."
   ]
  },
  {
   "cell_type": "markdown",
   "metadata": {},
   "source": [
    "### Q: 자연어 처리란?\n",
    "A: 인간의 언어 현상을 컴퓨터와 같은 기계를 이용해서 모사 할수 있도록 연구하는 분야 (위키피디아)\n",
    "\n",
    "Simply.. 인간이 구사하는 언어를 컴퓨터가 이해하고 구사하게 하는 프로그램 입니다.\n",
    "\n",
    "### Q: 언어는 어떻게 수치화 하나요?\n",
    "여러가지 방법이 있습니다.\n",
    "\n",
    "- One-hot Vector\n",
    "- Word Embedding\n",
    "\n",
    "이 대표적이라고 보면 됩니다. 하나하나 알아보도록 하겠습니다."
   ]
  },
  {
   "cell_type": "markdown",
   "metadata": {},
   "source": [
    "## One-hot Vector\n",
    "현재 인간이 구사할 수 있는 단어가 다음 뿐이라고 가정해봅시다.\n",
    "\n",
    "1. 안녕\n",
    "2. 나는\n",
    "3. HAI\n",
    "4. 를\n",
    "5. 사랑해\n",
    "\n",
    "위와 같은 단어의 모임을 Vocabulary 라고 합니다. 흠... 그럼 다음과 같은 5개의 단어를 어떻게 하면 컴퓨터가 수학적으로 알아듣게 할까요? 이런방법이 있겠지요?\n",
    "\n",
    "**안녕** 이라는 단어를 [1, 0, 0, 0, 0] <br>\n",
    "**나는** 이라는 단어를 [0, 1, 0, 0, 0] <br>\n",
    "... <br>\n",
    "**사랑해** 이라는 단어를 [0, 0, 0, 0, 1] <br>\n",
    "라고 표현을 해봅시다.\n",
    "\n",
    "위와 같이 표현하면 모든 단어가 각각이 다른 행렬 (같은 말로는 벡터) 를 가지게 되겠죠? 즉, 총 알고있는 단어의 갯수가 N개 일때, (1 by N) 벡터로 단어를 표현할 수 있는 겁니다.<br>\n",
    "여기서, 한 column 만 1 이고 나머지 column은 0 이라는 특징을 따 \"One-hot Vector\" 라고 부릅니다.\n",
    "\n",
    "한번 One-hot Vector 를 만들어보겠습니다"
   ]
  },
  {
   "cell_type": "code",
   "execution_count": 5,
   "metadata": {},
   "outputs": [],
   "source": [
    "# One-hot Vector 를 만들어주는 함수를 구현해봅시다\n",
    "# Input 으로는 단어가 있는 List 를 받고\n",
    "# Output 으로는 단어와 One-hot-Vector가 Mapping 된 Dictionary 를 반환합니다.\n",
    "\n",
    "import numpy as np\n",
    "\n",
    "def gen_one_hot(word_list):\n",
    "    length = len(word_list)\n",
    "    result_dict = {}\n",
    "    \n",
    "    for idx, word in enumerate(word_list):\n",
    "        one_hot_vec = np.zeros(length)  # shape은 (length, ) 이고 값은 전부 0인 행렬(벡터)를 만듭니다\n",
    "        one_hot_vec[idx] = 1  # 해당 word에 해당하는 one_hot vector를 만들었습니다.\n",
    "        \n",
    "        result_dict[word] = one_hot_vec\n",
    "    \n",
    "    return result_dict        "
   ]
  },
  {
   "cell_type": "code",
   "execution_count": 6,
   "metadata": {},
   "outputs": [
    {
     "name": "stdout",
     "output_type": "stream",
     "text": [
      "['안녕', '나는', 'HAI', '를', '사랑해']\n"
     ]
    }
   ],
   "source": [
    "# 위에서 만든 단어의 모임을 List 형으로 구성해봅시다\n",
    "cluster_of_words = ['안녕', '나는', 'HAI', '를', '사랑해']\n",
    "print(cluster_of_words)"
   ]
  },
  {
   "cell_type": "code",
   "execution_count": 7,
   "metadata": {},
   "outputs": [
    {
     "name": "stdout",
     "output_type": "stream",
     "text": [
      "{'안녕': array([1., 0., 0., 0., 0.]), '나는': array([0., 1., 0., 0., 0.]), 'HAI': array([0., 0., 1., 0., 0.]), '를': array([0., 0., 0., 1., 0.]), '사랑해': array([0., 0., 0., 0., 1.])}\n"
     ]
    }
   ],
   "source": [
    "# 다음 cluster_of_words의 one-hot vector를 만듭시다\n",
    "dictionary = gen_one_hot(cluster_of_words)\n",
    "print(dictionary)"
   ]
  },
  {
   "cell_type": "markdown",
   "metadata": {},
   "source": [
    "## Word Embedding\n",
    "One-hot Vector로 모든 단어를 표현할 수 있는데 왜 Word Embedding 이 필요한거죠? One-hot Vector의 downside 에 대해서 알아보겠습니다.\n",
    "\n",
    "<b>Downside of One-hot Vector</b>\n",
    "1. 단어의 수가 무수히 많아지면 Vector의 Shape 또한 무수히 커진다\n",
    "2. 단어의 수가 변하면 Shape 또한 변한다\n",
    "3. Boolean 값으로 나머지 값들은 낭비된다. (매우 Sparse한 vector)\n",
    "\n",
    "**어떻게 해결할 수 있을까?** <br>\n",
    "단어들을 One-hot Vector 가 아닌 실수로 이루어져있는 Vector로 표현한다. 여러가지 Non-Supervised 학습 알고리즘으로, 각 단어를 가장 잘 대표하는 실수형 벡터를 뽑아 사용한다.\n",
    "\n",
    "여기까지 읽으면 절대 감이 안 잡힙니다. 가장 기본적이면서도 기초적인 Word2Vec 알고리즘을 돌려보겠습니다. 돌려보면서 감을 한번 잡아보세요."
   ]
  },
  {
   "cell_type": "code",
   "execution_count": null,
   "metadata": {},
   "outputs": [],
   "source": []
  }
 ],
 "metadata": {
  "kernelspec": {
   "display_name": "Python 3",
   "language": "python",
   "name": "python3"
  },
  "language_info": {
   "codemirror_mode": {
    "name": "ipython",
    "version": 3
   },
   "file_extension": ".py",
   "mimetype": "text/x-python",
   "name": "python",
   "nbconvert_exporter": "python",
   "pygments_lexer": "ipython3",
   "version": "3.7.4"
  }
 },
 "nbformat": 4,
 "nbformat_minor": 2
}
