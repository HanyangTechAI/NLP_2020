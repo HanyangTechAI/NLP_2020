{
 "cells": [
  {
   "cell_type": "markdown",
   "metadata": {},
   "source": [
    "## 1. Sequence becomes Image\n",
    "지난시간에는 시계열 데이터에 대해서 알아보았습니다. 하지만 시계열 데이터를 반드시 Sequence의 형태로 처리하라는 법은 없습니다. 가끔은 시계열의 패턴도 이미지처럼 해석을 하는것이 더 효과적일 때가 있습니다.\n",
    "\n",
    "**Q: 어떻게 시퀀스 데이터를 이미지로 나타낸다는 거지?**\n",
    "\n",
    "**A: 푸리에 변환 이라고 들어보셨나요?**"
   ]
  },
  {
   "cell_type": "markdown",
   "metadata": {},
   "source": [
    "### Introduction to Fourier Transform\n",
    "\n",
    "**직관적 이해**\n",
    "\n",
    "임의의 입력 신호를 다양한 주파수를 갖는 주기함수들의 합으로 분해하여 표현\n",
    "\n",
    "\n",
    "**수학적 이해**\n",
    "\n",
    "다음은 Discrete Fourier Transform 에 대한 수식입니다.\n",
    "<img src=\"https://miro.medium.com/max/812/1*Hm88khvsCJE7e0kkUJ97wA.png\" width=300/>\n",
    "\n",
    "이게 도대체 뭘까?\n",
    "\n",
    "<img src=\"https://pbs.twimg.com/media/DUoTATuWkAAGzhM.jpg\" width=500 />\n",
    "\n",
    "[링크 동영상 참고](https://www.youtube.com/watch?v=spUNpyF58BY)\n",
    "\n",
    "결국 Time Domain의 데이터를 Frequency Domain으로 나타나게 해준다!"
   ]
  },
  {
   "cell_type": "code",
   "execution_count": null,
   "metadata": {},
   "outputs": [],
   "source": [
    "# 수업자료 깃허브 Repository를 다운받아준다\n",
    "!rm -rf ./NLP_2020\n",
    "!git clone https://github.com/HanyangTechAI/NLP_2020.git\n",
    "!rm -rf ./NLP_2020/.git\n",
    "\n",
    "!rm -rf ./DeepIsolation\n",
    "!git clone https://github.com/litcoderr/DeepIsolation.git\n",
    "!rm -rf ./DeepIsolation"
   ]
  },
  {
   "cell_type": "code",
   "execution_count": null,
   "metadata": {},
   "outputs": [],
   "source": [
    "# 필요한 패키지 (인생을 편하게 해주는 미리 만들어놓은 프로그램이라고 보면 된다) 를 설치시킨다\n",
    "!cat ./NLP_2020/lab02_sequence_meets_computer_vision/requirements.txt\n",
    "!echo '----------------------------------'\n",
    "!pip install -r ./NLP_2020/lab02_sequence_meets_computer_vision/requirements.txt"
   ]
  },
  {
   "cell_type": "code",
   "execution_count": null,
   "metadata": {},
   "outputs": [],
   "source": [
    "!pip install youtube_dl\n",
    "!pip install pydub\n",
    "!apt install ffmpeg"
   ]
  },
  {
   "cell_type": "markdown",
   "metadata": {},
   "source": [
    "### 1. 유튜브에서 음성 파일을 다운로드 받아봅시다"
   ]
  },
  {
   "cell_type": "code",
   "execution_count": null,
   "metadata": {},
   "outputs": [],
   "source": [
    "import youtube_dl\n",
    "\n",
    "def download(link):\n",
    "  ydl_opts = {\n",
    "      'format': 'bestaudio/best',\n",
    "      'postprocessors': [{\n",
    "          'key': 'FFmpegExtractAudio',\n",
    "          'preferredcodec': 'mp3',\n",
    "          'preferredquality': '192',\n",
    "      }],\n",
    "  }\n",
    "  with youtube_dl.YoutubeDL(ydl_opts) as ydl:\n",
    "    result = ydl.extract_info(link,download=False)\n",
    "    if 'entries' in result:\n",
    "      video = result['entries'][0]\n",
    "      return 0\n",
    "    else:\n",
    "      video = result\n",
    "      title = \"{}-{}.mp3\".format(video[\"title\"],video['id'])\n",
    "      ydl.download([link])\n",
    "      return title"
   ]
  },
  {
   "cell_type": "code",
   "execution_count": null,
   "metadata": {},
   "outputs": [],
   "source": [
    "link = input(\"유튜브 링크를 입력하시오: \")\n",
    "file_path = download(link)\n",
    "print('------------------------\\n{} has been download'.format(file_path))"
   ]
  },
  {
   "cell_type": "markdown",
   "metadata": {},
   "source": [
    "###  2. MP3 파일 -> WAV 파일 변환\n",
    "MP3 파일은 음의 파형을 압축해놓은 압축 파일형식 입니다. 따라서 파형을 나타낸 WAV 형식으로 변환하는 과정이 필요합니다."
   ]
  },
  {
   "cell_type": "code",
   "execution_count": null,
   "metadata": {},
   "outputs": [],
   "source": [
    "import tempfile\n",
    "import os\n",
    "import pydub\n",
    "import scipy\n",
    "import scipy.io.wavfile\n",
    "\n",
    "def read_mp3(file_path, as_float = True):\n",
    "    \"\"\"\n",
    "    Read an MP3 File into numpy data.\n",
    "    :param file_path: String path to a file\n",
    "    :param as_float: Cast data to float and normalize to [-1, 1]\n",
    "    :return: Tuple(rate, data), where\n",
    "        rate is an integer indicating samples/s\n",
    "        data is an ndarray(n_samples, 2)[int16] if as_float = False\n",
    "            otherwise ndarray(n_samples, 2)[float] in range [-1, 1]\n",
    "    \"\"\"\n",
    "\n",
    "    path, ext = os.path.splitext(file_path)\n",
    "    assert ext=='.mp3'\n",
    "    mp3 = pydub.AudioSegment.from_mp3(file_path)\n",
    "    _, path = tempfile.mkstemp()\n",
    "    mp3.export(path, format=\"wav\")\n",
    "    rate, data = scipy.io.wavfile.read(path)\n",
    "    os.remove(path)\n",
    "    if as_float:\n",
    "        data = data/(2**15)\n",
    "    return rate, data"
   ]
  },
  {
   "cell_type": "code",
   "execution_count": null,
   "metadata": {},
   "outputs": [],
   "source": [
    "sample_rate, wave_data = read_mp3(file_path=file_path)\n",
    "\n",
    "print('sample rate: {}'.format(sample_rate))\n",
    "print('stereo wave vector shape: {}'.format(wave_data.shape))\n",
    "\n",
    "# Mono 오디오 파일로 변환\n",
    "wave_data = wave_data.sum(axis=1) / 2\n",
    "\n",
    "print('mono wave vector shape: {}'.format(wave_data.shape))"
   ]
  },
  {
   "cell_type": "markdown",
   "metadata": {},
   "source": [
    "위 정보를 바탕으로 간단한 이해를 하고 가봅시다.\n",
    "\n",
    "- 샘플링 Rate 은 48000 Hz 임을 볼 수 있습니다. 즉, 1초에 48000번 파의 위치를 기록한 데이터 임을 알 수 있습니다.\n",
    "- Wave 벡터의 Shape은 (num_samples, 2) 임을 알 수 있습니다. 2 인 이유는, stereo 데이터 이기 때문입니다. 즉, 왼쪽 오른쪽의 음에 대한 정보를 따로 가지고 있다고 볼 수 있습니다."
   ]
  },
  {
   "cell_type": "markdown",
   "metadata": {},
   "source": [
    "### 파형 출력"
   ]
  },
  {
   "cell_type": "code",
   "execution_count": null,
   "metadata": {},
   "outputs": [],
   "source": [
    "%matplotlib inline\n",
    "%config InlineBackend.figure_format='retina'\n",
    "import matplotlib\n",
    "import numpy as np\n",
    "import matplotlib.pyplot as plt\n",
    "\n",
    "def plot(wave, sample_rate, start_sec, end_sec):\n",
    "    start_index = int(float(start_second) * sample_rate)\n",
    "    end_index = int(float(end_second) * sample_rate)\n",
    "    \n",
    "    plt.plot(wave[start_index:end_index])\n",
    "    plt.ylabel('wave')\n",
    "    plt.axis([None,None,-1,1])\n",
    "    plt.show()\n",
    "    \n",
    "while True:\n",
    "    start_second = input(\"시작 초: \")\n",
    "    if start_second == \"\":\n",
    "        break\n",
    "    end_second = input(\"끝 초: \")\n",
    "    \n",
    "    plot(wave_data, sample_rate, float(start_second), float(end_second))"
   ]
  },
  {
   "cell_type": "markdown",
   "metadata": {},
   "source": [
    "### 푸리에 변환을 해보자"
   ]
  },
  {
   "cell_type": "code",
   "execution_count": null,
   "metadata": {},
   "outputs": [],
   "source": [
    "from DeepIsolation.modules.util.stft import STFTConverter\n",
    "\n",
    "converter  = STFTConverter()\n",
    "\n",
    "spectrogram = converter.get_stft(wave_data) # shape: [2(mag,angle), sample_time_step, freq]\n",
    "print('spectrogram shape: {}'.format(spectrogram.shape))"
   ]
  },
  {
   "cell_type": "code",
   "execution_count": null,
   "metadata": {},
   "outputs": [],
   "source": [
    "magnitude = spectrogram[0,:,:]\n",
    "phase = spectrogram[1,:,:]\n",
    "\n",
    "plt.imshow(magnitude, aspect='auto')\n",
    "plt.xlabel(\"magnitude\")\n",
    "plt.ylabel(\"sample_time_step\")\n",
    "plt.show()"
   ]
  },
  {
   "cell_type": "markdown",
   "metadata": {},
   "source": [
    "### Inverse 푸리에 변환을 통해 Frequenct 도메인 에서 Time 도메인으로 변환해보자"
   ]
  },
  {
   "cell_type": "code",
   "execution_count": null,
   "metadata": {},
   "outputs": [],
   "source": [
    "spectrogram = np.stack((magnitude, phase))\n",
    "inversed_wave_data = converter.stft2wav(spectrogram)\n",
    "\n",
    "print(inversed_wave_data.shape)"
   ]
  },
  {
   "cell_type": "code",
   "execution_count": null,
   "metadata": {},
   "outputs": [],
   "source": [
    "while True:\n",
    "    start_second = input(\"시작 초: \")\n",
    "    if start_second == \"\":\n",
    "        break\n",
    "    end_second = input(\"끝 초: \")\n",
    "    \n",
    "    start_index = int(float(start_second) * sample_rate)\n",
    "    end_index = int(float(end_second) * sample_rate)\n",
    "    plot(inversed_wave_data, sample_rate, float(start_second), float(end_second))"
   ]
  },
  {
   "cell_type": "markdown",
   "metadata": {},
   "source": [
    "**이제 여러분은 시퀀스 데이터를 이미지로 처리할 준비가 되었습니다!!**"
   ]
  }
 ],
 "metadata": {
  "kernelspec": {
   "display_name": "Python 3",
   "language": "python",
   "name": "python3"
  },
  "language_info": {
   "codemirror_mode": {
    "name": "ipython",
    "version": 3
   },
   "file_extension": ".py",
   "mimetype": "text/x-python",
   "name": "python",
   "nbconvert_exporter": "python",
   "pygments_lexer": "ipython3",
   "version": "3.7.4"
  }
 },
 "nbformat": 4,
 "nbformat_minor": 2
}
